{
 "cells": [
  {
   "cell_type": "markdown",
   "id": "01dcb1bf-88a9-42a1-8788-a41ebfc2de27",
   "metadata": {},
   "source": [
    "<h1><center><b><u><span style=\"color:blue\">ASSIGNMENT-2</span></u>(Control Flow & Loops)</b></center></h1>"
   ]
  },
  {
   "cell_type": "markdown",
   "id": "08bb0d7f-58d1-4450-a3a3-294670a8b584",
   "metadata": {},
   "source": [
    "<h2><b><u><span style=\"color:red\">Control Flow:</span></u></b></h2>"
   ]
  },
  {
   "cell_type": "markdown",
   "id": "b8d064b3-102e-47ce-9a5c-8a34c1cc4244",
   "metadata": {},
   "source": [
    "<h4><b>Ques1:</b>Write a Python program to check if a given number is positive or negative.</h4>\n"
   ]
  },
  {
   "cell_type": "markdown",
   "id": "9199a87b-e9af-45e8-bacf-201ffbbad64c",
   "metadata": {},
   "source": [
    "<h5><u><b>Answer:<u></b></h5> \n"
   ]
  },
  {
   "cell_type": "code",
   "execution_count": 5,
   "id": "8e979353-4586-44be-af78-ed92a4a566e5",
   "metadata": {},
   "outputs": [
    {
     "name": "stdin",
     "output_type": "stream",
     "text": [
      "Enter any number: 5\n"
     ]
    },
    {
     "name": "stdout",
     "output_type": "stream",
     "text": [
      "5 is positive\n"
     ]
    }
   ],
   "source": [
    "num=int(input(\"Enter any number:\"))\n",
    "if num>0:\n",
    "  print(f\"{num} is positive\")\n",
    "elif num<0:\n",
    "  print(f\"{num} is negative\")\n",
    "else:\n",
    "  print(\"The number is negative\")"
   ]
  },
  {
   "cell_type": "markdown",
   "id": "cc1b9042-d410-4df0-9f45-e212102b66f8",
   "metadata": {},
   "source": [
    "<h4><b>Ques2:</b>Create a program that determines if a person is eligible to vote based on their age. </h4>\n"
   ]
  },
  {
   "cell_type": "markdown",
   "id": "703d7dcd-5c01-4707-a0f8-b4a39e8d9754",
   "metadata": {},
   "source": [
    "<h5><u><b>Answer:<u></b></h5> \n"
   ]
  },
  {
   "cell_type": "code",
   "execution_count": 5,
   "id": "5878def6-ee17-402d-a9aa-b36cc16b82f4",
   "metadata": {},
   "outputs": [
    {
     "name": "stdin",
     "output_type": "stream",
     "text": [
      "Enter the age of the person 19\n"
     ]
    },
    {
     "name": "stdout",
     "output_type": "stream",
     "text": [
      "The peroson is eligible for vote\n"
     ]
    }
   ],
   "source": [
    "age=int(input(\"Enter the age of the person\"))\n",
    "if age>18:\n",
    "   print(\"The peroson is eligible for vote\")\n",
    "else:\n",
    "   print(\"The person is not eligible for vote\")"
   ]
  },
  {
   "cell_type": "markdown",
   "id": "e2799cc8-69e7-4824-b7fc-4e5eebbb8cce",
   "metadata": {},
   "source": [
    "<h4><b>Ques3:</b>Develop a program to find the maximum of two numbers using if-else statements.</h4>\n"
   ]
  },
  {
   "cell_type": "markdown",
   "id": "e7892638-324f-4f67-b19f-e877ca7fa17d",
   "metadata": {},
   "source": [
    "<h5><u><b>Answer:<u></b></h5> \n"
   ]
  },
  {
   "cell_type": "code",
   "execution_count": 10,
   "id": "0c2accca-af75-4bcc-b36f-43879c87427b",
   "metadata": {},
   "outputs": [
    {
     "name": "stdin",
     "output_type": "stream",
     "text": [
      "Enter 1st number: 5\n",
      "Enter 2nd number: 7\n"
     ]
    },
    {
     "name": "stdout",
     "output_type": "stream",
     "text": [
      "7 is the maximum number\n"
     ]
    }
   ],
   "source": [
    "num1=int(input(\"Enter 1st number:\"))\n",
    "num2=int(input(\"Enter 2nd number:\"))\n",
    "if num1>num2:\n",
    "   print(f\"{num1} is the maximum number\")\n",
    "else:\n",
    "    print(f\"{num2} is the maximum number\")\n",
    "    "
   ]
  },
  {
   "cell_type": "markdown",
   "id": "61255f13-baac-48f8-acae-36f6bfbbde30",
   "metadata": {},
   "source": [
    "<h4><b>Ques4:</b>Write a Python program that defines a function to calculate the sum of two numbers and then calls the function.</h4>"
   ]
  },
  {
   "cell_type": "markdown",
   "id": "11cd058e-27a0-4a55-b649-588c3b621ea5",
   "metadata": {},
   "source": [
    "<h5><u><b>Answer:<u></b></h5>"
   ]
  },
  {
   "cell_type": "code",
   "execution_count": 13,
   "id": "13739677-8a74-4ec2-9188-2432e40b682f",
   "metadata": {},
   "outputs": [
    {
     "name": "stdin",
     "output_type": "stream",
     "text": [
      "Enter 1st number: 55\n",
      "Enter 2nd number: 77\n"
     ]
    },
    {
     "name": "stdout",
     "output_type": "stream",
     "text": [
      "The sum is: 132.0\n"
     ]
    }
   ],
   "source": [
    "def add_num(a,b):\n",
    "    return a+b\n",
    "num1=float(input(\"Enter 1st number:\"))\n",
    "num2=float(input(\"Enter 2nd number:\"))\n",
    "result=add_num(num1,num2)\n",
    "print(\"The sum is:\",result)"
   ]
  },
  {
   "cell_type": "markdown",
   "id": "423ff9a5-c746-4bbf-a609-60a71ba7083b",
   "metadata": {},
   "source": [
    "<h4><b>Ques5:</b> Create a program that checks whether a character is a vowel or a consonant. </h4>\n"
   ]
  },
  {
   "cell_type": "markdown",
   "id": "7df0abdb-1edf-49a3-aa73-b1cefa687399",
   "metadata": {},
   "source": [
    "<h5><u><b>Answer:<u></b></h5> \n",
    "\n"
   ]
  },
  {
   "cell_type": "code",
   "execution_count": 21,
   "id": "a28aaa8a-445c-4338-8820-3d6c9530331e",
   "metadata": {},
   "outputs": [
    {
     "name": "stdin",
     "output_type": "stream",
     "text": [
      "Enter the character: a\n"
     ]
    },
    {
     "name": "stdout",
     "output_type": "stream",
     "text": [
      "a is a consonant\n"
     ]
    }
   ],
   "source": [
    "charac=input(\"Enter the character:\")\n",
    "vowel=(\"A,E,I,O,U,a,e,i,o,u\")\n",
    "if charac==vowel:\n",
    "      print(f\"{charac} is a vowel\")\n",
    "elif charac.isalpha():\n",
    "      print(f\"{charac} is a consonant\")\n",
    "else:\n",
    "      print(\"wrong input\")\n",
    "    \n"
   ]
  },
  {
   "cell_type": "markdown",
   "id": "b35cbcd1-9c0c-4b22-bf54-6476b3751825",
   "metadata": {},
   "source": [
    "<h4><b>Ques6:</b> Implement a program to determine whether a given number is even or odd.</h4>\n"
   ]
  },
  {
   "cell_type": "markdown",
   "id": "c6b0e5f6-2944-4860-96d6-d3839236f8d1",
   "metadata": {},
   "source": [
    "<h5><u><b>Answer:<u></b></h5> \n"
   ]
  },
  {
   "cell_type": "code",
   "execution_count": 23,
   "id": "dfa90940-cbf5-49fb-b104-b5ef3672ec9a",
   "metadata": {},
   "outputs": [
    {
     "name": "stdin",
     "output_type": "stream",
     "text": [
      "Enter the number: 5\n"
     ]
    },
    {
     "name": "stdout",
     "output_type": "stream",
     "text": [
      "5 is a odd number:\n"
     ]
    }
   ],
   "source": [
    "num=int(input(\"Enter the number:\"))\n",
    "if num%2==0:\n",
    "    print(f\"{num} is a even number:\")\n",
    "else:\n",
    "    print(f\"{num} is a odd number:\")\n",
    "    "
   ]
  },
  {
   "cell_type": "markdown",
   "id": "afaab96a-b382-4aaa-97a1-00d17fb9c50b",
   "metadata": {},
   "source": [
    "<h4><b>Ques7:</b>Write a Python function to calculate the absolute value of a number without using the `abs()` function.</h4>\n"
   ]
  },
  {
   "cell_type": "markdown",
   "id": "5c770292-e5be-4253-837f-ee11d6ee5941",
   "metadata": {},
   "source": [
    "<h5><u><b>Answer:<u></b></h5> \n",
    "Absolute value is the distance of the value from zero without considering the sign"
   ]
  },
  {
   "cell_type": "code",
   "execution_count": 30,
   "id": "e72049fe-be98-4dfd-a163-e6ddee6f0bef",
   "metadata": {},
   "outputs": [
    {
     "name": "stdin",
     "output_type": "stream",
     "text": [
      "Enter the number: -7\n"
     ]
    },
    {
     "name": "stdout",
     "output_type": "stream",
     "text": [
      "The absolute value of-7 is: 7\n"
     ]
    }
   ],
   "source": [
    "def absolute_value(num):\n",
    "    if num<0:\n",
    "      return -num\n",
    "    else:\n",
    "      return num\n",
    "num=int(input(\"Enter the number:\"))\n",
    "print(f\"The absolute value of{num} is:\",abs_value(num))\n",
    "    \n",
    "    "
   ]
  },
  {
   "cell_type": "markdown",
   "id": "cc7eae9e-d49c-4e7b-a892-cbd9c5d4129f",
   "metadata": {},
   "source": [
    "<h4><b>Ques8:</b>Develop a program that determines the largest of three given numbers using if-else statements.</h4><h5><u><b>Answer:<u></b></h5> \n"
   ]
  },
  {
   "cell_type": "code",
   "execution_count": 3,
   "id": "0fdc50ab-4b5a-474a-b26e-a09b73f66433",
   "metadata": {},
   "outputs": [
    {
     "name": "stdin",
     "output_type": "stream",
     "text": [
      "Enter the 1st number: 55\n",
      "Enter the 2nd number: 77\n",
      "Enter the 3rd number: 57\n"
     ]
    },
    {
     "name": "stdout",
     "output_type": "stream",
     "text": [
      "57 is the largest\n"
     ]
    }
   ],
   "source": [
    "num1=int(input(\"Enter the 1st number:\"))\n",
    "num2=int(input(\"Enter the 2nd number:\"))\n",
    "num3=int(input(\"Enter the 3rd number:\"))\n",
    "if(num1>>num2)and(num1>>num3):\n",
    "    print(f\"{num1} is the largest\")\n",
    "elif(num2>>num1)and(num2>>num3):\n",
    "    print(f\"{num2} is the largest\")\n",
    "else:\n",
    "    print(f\"{num3} is the largest\")"
   ]
  },
  {
   "cell_type": "markdown",
   "id": "3d1ca7dc-b0af-4ef5-85b8-a62d8906aea7",
   "metadata": {},
   "source": [
    "\n"
   ]
  },
  {
   "cell_type": "markdown",
   "id": "3dc50db4-bf7b-4eec-b30a-55862904d3fb",
   "metadata": {},
   "source": [
    "<h4><b>Ques9:</b>Create a program that checks if a given string is a palindrome.</h4>\n"
   ]
  },
  {
   "cell_type": "markdown",
   "id": "f6b69dc9-e814-4c33-a814-893e06bc2077",
   "metadata": {},
   "source": [
    "<h5><u><b>Answer:<u></b></h5> \n"
   ]
  },
  {
   "cell_type": "code",
   "execution_count": 8,
   "id": "66843b4f-7ca1-420a-8101-a1ddcb3612f8",
   "metadata": {},
   "outputs": [
    {
     "name": "stdin",
     "output_type": "stream",
     "text": [
      "Enter the string : madam\n"
     ]
    },
    {
     "name": "stdout",
     "output_type": "stream",
     "text": [
      "madam is a palindrome\n"
     ]
    }
   ],
   "source": [
    "str=input(\"Enter the string :\")\n",
    "invrs=str[ ::-1]\n",
    "if str==invrs :\n",
    "  print(f\"{str} is a palindrome\")\n",
    "else:\n",
    "  print(f\"{str} is not a palindrome\")"
   ]
  },
  {
   "cell_type": "markdown",
   "id": "503bc74f-5356-4447-871d-9ebb75cdb2c2",
   "metadata": {},
   "source": [
    "<h4><b>Ques10:</b> Write a Python program to calculate the grade based on a student's score.</h4>\n"
   ]
  },
  {
   "cell_type": "markdown",
   "id": "63bdec6e-3197-41a7-b4ea-df9a9cb211b0",
   "metadata": {},
   "source": [
    "<h5><u><b>Answer:<u></b></h5> \n"
   ]
  },
  {
   "cell_type": "code",
   "execution_count": 10,
   "id": "6a96a30f-4157-4c23-b495-853104e24b35",
   "metadata": {},
   "outputs": [
    {
     "name": "stdin",
     "output_type": "stream",
     "text": [
      "Enter your marks: 97\n"
     ]
    },
    {
     "name": "stdout",
     "output_type": "stream",
     "text": [
      "The grade of the student is : A+\n"
     ]
    }
   ],
   "source": [
    "marks=float(input(\"Enter your marks:\"))\n",
    "if marks>=90:\n",
    "    grade=\"A+\"\n",
    "elif marks>=80:\n",
    "    grade=\"A\"\n",
    "elif marks>=70:\n",
    "    grade=\"B+\"\n",
    "elif marks>=60:\n",
    "    grade=\"B\"\n",
    "elif marks>=50:\n",
    "    grade=\"C+\"\n",
    "elif marks>=40:\n",
    "    grade=\"Pass\"\n",
    "else:\n",
    "    grade=\"Fail\"\n",
    "print(\"The grade of the student is :\",grade) \n",
    "    "
   ]
  },
  {
   "cell_type": "markdown",
   "id": "a703914f-fd03-4b6e-a57e-290afa65d2a2",
   "metadata": {},
   "source": [
    "<h4><b>Ques11:</b> Write a program to find the largest among three numbers using nested if-else statements.</h4>\n"
   ]
  },
  {
   "cell_type": "markdown",
   "id": "0743e7f3-af7b-41f0-a473-9e98eece7397",
   "metadata": {},
   "source": [
    "<h5><u><b>Answer:<u></b></h5> \n",
    "\n"
   ]
  },
  {
   "cell_type": "code",
   "execution_count": 12,
   "id": "a43f50de-aeb4-43bd-8cc6-cf98af332671",
   "metadata": {},
   "outputs": [
    {
     "name": "stdin",
     "output_type": "stream",
     "text": [
      "Enter the 1st number: 25\n",
      "Enter the 2nd number: 60\n",
      "Enter the 3rd number: 55\n"
     ]
    },
    {
     "name": "stdout",
     "output_type": "stream",
     "text": [
      "The largest number is: 60.0\n"
     ]
    }
   ],
   "source": [
    "num1=float(input(\"Enter the 1st number:\"))\n",
    "num2=float(input(\"Enter the 2nd number:\"))\n",
    "num3=float(input(\"Enter the 3rd number:\"))\n",
    "\n",
    "if num1>=num2:\n",
    "    if num1>=num3:\n",
    "     Largest=num1\n",
    "    else:   \n",
    "     Largest=num3\n",
    "else:        \n",
    "    if num2>=num3:\n",
    "     Largest=num2\n",
    "    else:\n",
    "     Largest=num3\n",
    "print(\"The largest number is:\",Largest)        \n",
    "    "
   ]
  },
  {
   "cell_type": "markdown",
   "id": "58a2e525-fdfa-422a-a0b5-76a4ebb292fa",
   "metadata": {},
   "source": [
    "<h4><b>Ques12:</b> Implement a program to determine if a triangle is equilateral, isosceles, or scalene. </h4>\n"
   ]
  },
  {
   "cell_type": "markdown",
   "id": "2489b29e-81fa-4231-a555-a893dc13ebdb",
   "metadata": {},
   "source": [
    "<h5><u><b>Answer:<u></b></h5> \n",
    "\n"
   ]
  },
  {
   "cell_type": "code",
   "execution_count": 16,
   "id": "3576d0da-7ecf-4e14-9f7a-2bccc15e6caf",
   "metadata": {},
   "outputs": [
    {
     "name": "stdin",
     "output_type": "stream",
     "text": [
      "Enter the first side 90\n",
      "Enter the second side 60\n",
      "Enter the third side 120\n"
     ]
    },
    {
     "name": "stdout",
     "output_type": "stream",
     "text": [
      "The triangle is a Scalene\n"
     ]
    }
   ],
   "source": [
    "side1=float(input(\"Enter the first side\"))\n",
    "side2=float(input(\"Enter the second side\"))\n",
    "side3=float(input(\"Enter the third side\"))\n",
    "\n",
    "#check is sides can make a triangle\n",
    "if(side1+side2>side3)and(side2+side3>side1)and(side3+side1>side2):\n",
    "#check for a traingle type\n",
    " if side1==side2==side3:\n",
    "     print(\"The traingle is a Equilateral\")\n",
    " elif side1==side2 or side2==side3 or side3==side1:\n",
    "     print(\"The traingle is a Isosceles\")\n",
    " else:\n",
    "    print(\"The triangle is a Scalene\")\n",
    "else:\n",
    "   print(\"The sides does not make a traingle:\")\n",
    "    \n"
   ]
  },
  {
   "cell_type": "markdown",
   "id": "b2153bd1-f8bb-40a6-8a4a-bd0a9db75f10",
   "metadata": {},
   "source": [
    "<h4><b>Ques13:</b> Develop a program that checks if a year is a leap year and also if it is a century year. </h4>\n"
   ]
  },
  {
   "cell_type": "markdown",
   "id": "abba8661-8e14-4741-8b40-33e289281211",
   "metadata": {},
   "source": [
    "<h5><u><b>Answer:<u></b></h5> \n",
    "\n"
   ]
  },
  {
   "cell_type": "code",
   "execution_count": 20,
   "id": "2c274ad6-d0cc-4cfd-b5fd-be86ab646191",
   "metadata": {},
   "outputs": [
    {
     "name": "stdin",
     "output_type": "stream",
     "text": [
      "Enter a Year: 2025\n"
     ]
    },
    {
     "name": "stdout",
     "output_type": "stream",
     "text": [
      "2025 is not a century year\n",
      "2025 is also a leap year.\n"
     ]
    }
   ],
   "source": [
    "year=int(input(\"Enter a Year:\"))\n",
    "if year%100==0:\n",
    "  print(f\"{year} is a century year\")\n",
    "else:\n",
    "  print(f\"{year} is not a century year\")\n",
    "if(year%400==0)or (year%4==0 and year%100!=0):\n",
    "    print(year,\"is also a leap year.\")\n",
    "else:    \n",
    "    print(year,\"is also a leap year.\")\n",
    "             \n",
    "         "
   ]
  },
  {
   "cell_type": "markdown",
   "id": "e8860e45-51e4-4188-a35e-5f24b6e857aa",
   "metadata": {},
   "source": [
    "<h4><b>Ques14:</b>Write a Python script to determine if a number is positive, negative, or zero. </h4>\n"
   ]
  },
  {
   "cell_type": "markdown",
   "id": "bf0a349e-b8c2-4872-aefa-4087e0e8d607",
   "metadata": {},
   "source": [
    "<h5><u><b>Answer:<u></b></h5> \n",
    "\n"
   ]
  },
  {
   "cell_type": "code",
   "execution_count": 21,
   "id": "276c30da-2e11-44f4-ac87-3d95652dff7d",
   "metadata": {},
   "outputs": [
    {
     "name": "stdin",
     "output_type": "stream",
     "text": [
      "Enter the number: 25\n"
     ]
    },
    {
     "name": "stdout",
     "output_type": "stream",
     "text": [
      "25 is a positive number\n"
     ]
    }
   ],
   "source": [
    "## num=int(input(\"Enter the number:\"))\n",
    "if (num>0):\n",
    "    print(num,\"is a positive number\")\n",
    "elif (num<0):\n",
    "    print(num,\"is a negative number\")\n",
    "else:\n",
    "    print(\"Number is zero\")"
   ]
  },
  {
   "cell_type": "markdown",
   "id": "7608dd34-dc55-4edb-ba8f-cd1f60fd1eeb",
   "metadata": {},
   "source": [
    "<h4><b>Ques15:</b>Create a program to check if a person is a teenager (between 13 and 19 years old). </h4>\n"
   ]
  },
  {
   "cell_type": "markdown",
   "id": "22f2c2f9-b5cb-4508-b007-06c0366d2a42",
   "metadata": {},
   "source": [
    "<h5><u><b>Answer:<u></b></h5> \n",
    "\n"
   ]
  },
  {
   "cell_type": "code",
   "execution_count": 23,
   "id": "f2da3071-5382-405e-9061-56ea50d4d523",
   "metadata": {},
   "outputs": [
    {
     "name": "stdin",
     "output_type": "stream",
     "text": [
      "Enter the age : 18\n"
     ]
    },
    {
     "name": "stdout",
     "output_type": "stream",
     "text": [
      "The person is teenager\n"
     ]
    }
   ],
   "source": [
    "age=int(input(\"Enter the age :\"))\n",
    "if age>=13 and age<=19:   \n",
    "  print(\"The person is teenager\")\n",
    "else:\n",
    "  print(\"The person is not a teenager\")"
   ]
  },
  {
   "cell_type": "markdown",
   "id": "3b10e3a7-f4e7-4797-a4ee-fabab3d2e132",
   "metadata": {},
   "source": [
    "<h4><b>Ques16:</b> Develop a program that determines the type of angle based on its measure (acute, obtuse, or right).</h4>\n"
   ]
  },
  {
   "cell_type": "markdown",
   "id": "18c7ff72-89d4-47ea-96ce-d7854dd906ad",
   "metadata": {},
   "source": [
    "<h5><u><b>Answer:<u></b></h5> \n",
    "\n"
   ]
  },
  {
   "cell_type": "code",
   "execution_count": 7,
   "id": "2ee8f23f-55d2-4f7b-bc04-ff75b83c5ee2",
   "metadata": {},
   "outputs": [
    {
     "name": "stdin",
     "output_type": "stream",
     "text": [
      "Enter the angle in degree: 90\n"
     ]
    },
    {
     "name": "stdout",
     "output_type": "stream",
     "text": [
      "The angle is a Right Angle.\n"
     ]
    }
   ],
   "source": [
    "angle=float(input(\"Enter the angle in degree:\"))\n",
    "if angle==90:\n",
    "      print(\"The angle is a Right Angle.\")\n",
    "elif angle==180:\n",
    "      print(\"The angle is a Straight Angle.\")\n",
    "elif angle<90:\n",
    "      print(\"The angle is an Acute Angle.\")\n",
    "elif angle>90 and  angle<180:\n",
    "      print(\"The angle is an obtuse Angle.\")\n",
    "elif angle>180 and angle<360:\n",
    "      print(\"The angle is a Reflex Angle.\")\n",
    "else:\n",
    "      print(\"The angle is a Reflex Angle.\")\n",
    "            "
   ]
  },
  {
   "cell_type": "markdown",
   "id": "8c518df0-a336-4f68-ba66-872d6185bb67",
   "metadata": {},
   "source": [
    "<h4><b>Ques17:</b>Write a Python program to calculate the roots of a quadratic equation.</h4>\n"
   ]
  },
  {
   "cell_type": "markdown",
   "id": "fbd45583-f253-493d-bc82-f271f5dff319",
   "metadata": {},
   "source": [
    "<h5><u><b>Answer:<u></b></h5> \n",
    "\n"
   ]
  },
  {
   "cell_type": "code",
   "execution_count": 11,
   "id": "1b6e4c7d-acc2-4d0b-a3b0-7a75f35bf575",
   "metadata": {},
   "outputs": [
    {
     "name": "stdin",
     "output_type": "stream",
     "text": [
      "Enter coefficient a: 5\n",
      "Enter coefficient b: 8\n",
      "Enter coefficient c: 25\n"
     ]
    },
    {
     "name": "stdout",
     "output_type": "stream",
     "text": [
      "The equation has two complex roots:\n",
      "Root1=-0.8+2.08806130178211i\n",
      "Root2=-0.8-2.08806130178211i\n"
     ]
    }
   ],
   "source": [
    "import math\n",
    "a=float(input(\"Enter coefficient a:\"))\n",
    "b=float(input(\"Enter coefficient b:\"))\n",
    "c=float(input(\"Enter coefficient c:\"))\n",
    "\n",
    "#calculate the discriminants\n",
    "d=b**2-4*a*c\n",
    "\n",
    "if d>0:\n",
    "    root1=(-b+math.sqrt(d))/(2*a)\n",
    "    root2=(-b+math.sqrt(d))/(2*a)\n",
    "    print(\"The equation has two real and distinct roots\")\n",
    "    print(\"Root 1=\",root1)\n",
    "    print(\"Root 2=\",root2)\n",
    "elif d== 0:\n",
    "    root=-b/(2*a)\n",
    "    print(\"The equation has two equal real roots\")\n",
    "    print(\"Root1=Root2=\",root)\n",
    "else:\n",
    "    real_part=-b/(2*a)\n",
    "    imag_part=math.sqrt(-d)/(2*a)\n",
    "    print(\"The equation has two complex roots:\")\n",
    "    print(f\"Root1={real_part}+{imag_part}i\")\n",
    "    print(f\"Root2={real_part}-{imag_part}i\")\n",
    "    \n",
    "    "
   ]
  },
  {
   "cell_type": "markdown",
   "id": "56cc899e-53ce-4998-bfe4-9ac8a2c4862d",
   "metadata": {},
   "source": [
    "<h4><b>Ques18:</b> Implement a program to determine the day of the week based on a user-provided number (1 for Monday, 2 for Tuesday, etc.).</h4>\n",
    "\n"
   ]
  },
  {
   "cell_type": "code",
   "execution_count": null,
   "id": "dee48841-c659-4a0c-9018-a89d7cac5409",
   "metadata": {},
   "outputs": [],
   "source": []
  },
  {
   "cell_type": "code",
   "execution_count": 13,
   "id": "d115a42c-4351-45e5-89f0-c9201e0bbd65",
   "metadata": {},
   "outputs": [
    {
     "name": "stdin",
     "output_type": "stream",
     "text": [
      "Enter a number (1 for Monday,2 for Tuesday etc. 4\n"
     ]
    },
    {
     "name": "stdout",
     "output_type": "stream",
     "text": [
      "Thursday\n"
     ]
    }
   ],
   "source": [
    "day_number=int(input(\"Enter a number (1 for Monday,2 for Tuesday etc.\"))\n",
    "\n",
    "if day_number==1:\n",
    "    print(\"Monday\")\n",
    "elif day_number==2:               \n",
    "    print(\"Tuesday\")\n",
    "elif day_number==3:  \n",
    "    print(\"Wednesday\")\n",
    "elif day_number==4:  \n",
    "    print(\"Thursday\")\n",
    "elif day_number==5:  \n",
    "    print(\"Friday\")\n",
    "elif day_number==6:  \n",
    "    print(\"Saturday\")\n",
    "elif day_number==7: \n",
    "    print(\"Sunday\")\n",
    "else:\n",
    "   print(\"Invalid input!,Please enter a number between 1 and 7\")\n"
   ]
  },
  {
   "cell_type": "markdown",
   "id": "6ff8b0d0-92f4-45d6-bcda-42d67e840ff9",
   "metadata": {},
   "source": [
    "<h4><b>Ques19:</b> Create a program that determines if a year is a leap year and also if it is evenly divisible by 400</h4>\n"
   ]
  },
  {
   "cell_type": "markdown",
   "id": "93d0d359-4ab5-4b42-832d-d090c605029b",
   "metadata": {},
   "source": [
    "<h5><u><b>Answer:<u></b></h5> \n"
   ]
  },
  {
   "cell_type": "code",
   "execution_count": null,
   "id": "81b7f9ff-6845-475d-971d-6d2ea156bd5b",
   "metadata": {},
   "outputs": [],
   "source": [
    "year = int(input(\"Enter a year: \"))\n",
    "\n",
    "if year % 4 == 0:\n",
    "    if year % 100 == 0:\n",
    "        if year % 400 == 0:\n",
    "            print(year, \"is a leap year and evenly divisible by 400.\")\n",
    "        else:\n",
    "            print(year, \"is not a leap year (divisible by 100 but not by 400).\")\n",
    "    else:\n",
    "        print(year, \"is a leap year.\")\n",
    "else:\n",
    "    print(year, \"is not a leap year.\")\n"
   ]
  },
  {
   "cell_type": "markdown",
   "id": "2e9c3b69-4fc1-420e-9c58-c9c4c280e4b8",
   "metadata": {},
   "source": [
    "<h4><b>Ques20:</b> Develop a program that checks if a given number is prime or not using nested if-else statements.</h4>\n"
   ]
  },
  {
   "cell_type": "markdown",
   "id": "ce9f2f6c-94cd-4958-86ae-3e3b3089205d",
   "metadata": {},
   "source": [
    "<h5><u><b>Answer:<u></b></h5> \n"
   ]
  },
  {
   "cell_type": "code",
   "execution_count": 1,
   "id": "0f9bfa40-a897-4f21-9777-64c14d581659",
   "metadata": {},
   "outputs": [
    {
     "name": "stdin",
     "output_type": "stream",
     "text": [
      "Enter a number:  5\n"
     ]
    },
    {
     "name": "stdout",
     "output_type": "stream",
     "text": [
      "5 is a prime number.\n"
     ]
    }
   ],
   "source": [
    "# Program to check if a number is prime using nested if-else\n",
    "\n",
    "num = int(input(\"Enter a number: \"))\n",
    "\n",
    "if num > 1:  \n",
    "    if num == 2:  \n",
    "        print(num, \"is a prime number.\")\n",
    "    else:\n",
    "        i = 2\n",
    "        while i < num:\n",
    "            if num % i == 0:\n",
    "                print(num, \"is not a prime number.\")\n",
    "                break\n",
    "            i += 1\n",
    "        else:\n",
    "            print(num, \"is a prime number.\")\n",
    "else:\n",
    "    print(num, \"is not a prime number.\")\n"
   ]
  },
  {
   "cell_type": "markdown",
   "id": "223d0c8f-6032-484f-9175-48ab1763fe06",
   "metadata": {},
   "source": [
    "<h4><b>Ques21:</b>Create a program that calculates the income tax based on the user's income and tax brackets.</h4>\n"
   ]
  },
  {
   "cell_type": "markdown",
   "id": "0e08abb3-200c-403a-a62f-22eaf813bcd1",
   "metadata": {},
   "source": [
    "<h5><u><b>Answer:<u></b></h5> \n"
   ]
  },
  {
   "cell_type": "code",
   "execution_count": 2,
   "id": "f49e3f44-360b-4955-ad33-a31c2799030e",
   "metadata": {},
   "outputs": [
    {
     "name": "stdin",
     "output_type": "stream",
     "text": [
      "Enter the annual income: 900000\n"
     ]
    },
    {
     "name": "stdout",
     "output_type": "stream",
     "text": [
      "Your total income tax is Rs: 92500.0\n"
     ]
    }
   ],
   "source": [
    "income=float(input(\"Enter the annual income:\"))\n",
    "\n",
    "if income<=250000:\n",
    "    tax=0\n",
    "elif income<=500000:\n",
    "    tax=(income-250000)*0.05\n",
    "elif income<=1000000:    \n",
    "    tax=(250000*0.05)+(income-500000)*0.20\n",
    "else:\n",
    "    tax=(250000*0.05)+(500000*0.20)+(income-1000000)*0.30\n",
    "print(\"Your total income tax is Rs:\",tax)    \n",
    "          \n",
    "\n",
    "\n"
   ]
  },
  {
   "cell_type": "markdown",
   "id": "e5c53e8f-a709-46a0-9c27-34685edb7f76",
   "metadata": {},
   "source": [
    "<h4><b>Ques22:</b> Write a program that simulates a rock-paper-scissors game against the computer. </h4>\n"
   ]
  },
  {
   "cell_type": "markdown",
   "id": "262f4763-8472-4287-8a00-63c6faf0b7fa",
   "metadata": {},
   "source": [
    "<h5><u><b>Answer:<u></b></h5> \n"
   ]
  },
  {
   "cell_type": "code",
   "execution_count": 4,
   "id": "3dab627c-c252-4aef-b4f7-4daadb1bd1c4",
   "metadata": {},
   "outputs": [
    {
     "name": "stdin",
     "output_type": "stream",
     "text": [
      "Enter your choice (rock, paper, scissors):  rock\n"
     ]
    },
    {
     "name": "stdout",
     "output_type": "stream",
     "text": [
      "You chose: rock\n",
      "Computer chose: rock\n",
      "It's a tie breaker guys!\n"
     ]
    }
   ],
   "source": [
    "import random   \n",
    "choices = [\"rock\", \"paper\", \"scissors\"]\n",
    "user_choice = input(\"Enter your choice (rock, paper, scissors): \").lower()\n",
    "computer_choice = random.choice(choices)\n",
    "\n",
    "#  Show both choices\n",
    "print(\"You chose:\", user_choice)\n",
    "print(\"Computer chose:\", computer_choice)\n",
    "\n",
    "#  Decide the winner using nested if-else\n",
    "if user_choice == computer_choice:\n",
    "    print(\"It's a tie breaker guys!\")\n",
    "else:\n",
    "    if user_choice == \"rock\":\n",
    "        if computer_choice == \"scissors\":\n",
    "            print(\"hurrah !you won! Beacuse the Rock breaks Scissors.\")\n",
    "        else:\n",
    "            print(\"OHH no! You lose!  beacuse Paper covers Rock.\")\n",
    "    elif user_choice == \"paper\":\n",
    "        if computer_choice == \"rock\":\n",
    "            print(\"Hurrah! you won! Paper covers Rock.\")\n",
    "        else:\n",
    "            print(\"OHH no! Scissors cut Paper.\")\n",
    "    elif user_choice == \"scissors\":\n",
    "        if computer_choice == \"paper\":\n",
    "            print(\"You win! Scissors cut Paper.\")\n",
    "        else:\n",
    "            print(\"OHH no! you  lose! Rock breaks Scissors.\")\n",
    "    else:\n",
    "        print(\"Invalid input! Please enter rock, paper, or scissors.\")\n"
   ]
  },
  {
   "cell_type": "markdown",
   "id": "df1443f4-94ce-498f-8d2e-c5f2b3c77719",
   "metadata": {},
   "source": [
    "<h4><b>Ques23:</b> Develop a program that generates a random password based on user preferences (length, complexity).</h4>\n"
   ]
  },
  {
   "cell_type": "markdown",
   "id": "81539c7c-ddc9-417e-bc58-6c69d9024a4f",
   "metadata": {},
   "source": [
    "<h5><u><b>Answer:<u></b></h5> \n"
   ]
  },
  {
   "cell_type": "code",
   "execution_count": 8,
   "id": "ed913525-9fd0-4b7e-9ae8-8ada55fbe5fa",
   "metadata": {},
   "outputs": [
    {
     "name": "stdin",
     "output_type": "stream",
     "text": [
      "Enter desired password length:  7\n"
     ]
    },
    {
     "name": "stdout",
     "output_type": "stream",
     "text": [
      "Choose password complexity level:\n",
      "1. Low (only LETTERS)\n",
      "2. Medium (LETTERS and NUMBERS)\n",
      "3. High (LETTERS, NUMBERS,WHITESPACES and SYMBOLS)\n"
     ]
    },
    {
     "name": "stdin",
     "output_type": "stream",
     "text": [
      "Enter your choice (1/2/3):  3\n"
     ]
    },
    {
     "name": "stdout",
     "output_type": "stream",
     "text": [
      "\n",
      " I hv Generated  This Password: -qYC26[\n"
     ]
    }
   ],
   "source": [
    "### import random\n",
    "import string\n",
    "\n",
    "# seek preferences\n",
    "length = int(input(\"Enter desired password length: \"))\n",
    "print(\"Choose password complexity level:\")\n",
    "print(\"1. Low (only LETTERS)\")\n",
    "print(\"2. Medium (LETTERS and NUMBERS)\")\n",
    "print(\"3. High (LETTERS, NUMBERS,WHITESPACES and SYMBOLS)\")\n",
    "\n",
    "choice = int(input(\"Enter your choice (1/2/3): \"))\n",
    "\n",
    "#choose the level of complexity\n",
    "if choice == 1:\n",
    "    characters = string.ascii_letters   # a-z, A-Z\n",
    "elif choice == 2:\n",
    "    characters = string.ascii_letters + string.digits  # a-z, A-Z, 0-9\n",
    "elif choice == 3:\n",
    "    characters = string.ascii_letters + string.digits + string.punctuation  # all\n",
    "else:\n",
    "    print(\"Invalid choice! Defaulting to Medium complexity.\")\n",
    "    characters = string.ascii_letters + string.digits\n",
    "\n",
    "# Step 3: Generate the password\n",
    "password = ''.join(random.choice(characters) for i in range(length))\n",
    "\n",
    "# Step 4: Display the password\n",
    "print(\"\\n I hv Generated  This Password:\", password)\n"
   ]
  },
  {
   "cell_type": "markdown",
   "id": "02b6fcc0-126d-4d74-8d94-fbc1c7b08351",
   "metadata": {},
   "source": [
    "<h4><b>Ques24:</b>Create a program that implements a simple text-based adventure game with branching scenarios. </h4>\n"
   ]
  },
  {
   "cell_type": "markdown",
   "id": "89a5c704-0d93-4e15-b02d-b59f69e2da52",
   "metadata": {},
   "source": [
    "<h5><u><b>Answer:<u></b></h5> \n"
   ]
  },
  {
   "cell_type": "code",
   "execution_count": 29,
   "id": "5bda2b13-93f5-4698-a6a4-80faa37c98df",
   "metadata": {},
   "outputs": [
    {
     "name": "stdin",
     "output_type": "stream",
     "text": [
      "Do you want to enter the BRIGHT cave or the DARK tunnel?  Bright\n"
     ]
    },
    {
     "name": "stdout",
     "output_type": "stream",
     "text": [
      "\n",
      "You entered the bright cave.\n",
      "You found an aesthetic box covered with mud with keys on it.\n"
     ]
    },
    {
     "name": "stdin",
     "output_type": "stream",
     "text": [
      "Do you want to pick the keys? Type 'pick' or 'ignore':  PICK\n"
     ]
    },
    {
     "name": "stdout",
     "output_type": "stream",
     "text": [
      "Oh, these are golden keys!\n",
      "Do you want to OPEN the box or LEAVE it?\n"
     ]
    },
    {
     "name": "stdin",
     "output_type": "stream",
     "text": [
      "Type 'open' or 'leave':  OPEN\n"
     ]
    },
    {
     "name": "stdout",
     "output_type": "stream",
     "text": [
      "\n",
      "OMG! It contains rubies and diamonds. You are so lucky! 💎\n"
     ]
    }
   ],
   "source": [
    "\n",
    "choice1 = input(\"Do you want to enter the BRIGHT cave or the DARK tunnel? \").lower()\n",
    "\n",
    "if choice1 == \"bright\":\n",
    "    print(\"\\nYou entered the bright cave.\")\n",
    "    print(\"You found an aesthetic box covered with mud with keys on it.\")\n",
    "    choice2 = input(\"Do you want to pick the keys? Type 'pick' or 'ignore': \").lower()\n",
    "\n",
    "    if choice2 == \"pick\":\n",
    "        print(\"Oh, these are golden keys!\")\n",
    "        print(\"Do you want to OPEN the box or LEAVE it?\")\n",
    "        choice3 = input(\"Type 'open' or 'leave': \").lower()\n",
    "\n",
    "        if choice3 == \"open\":\n",
    "            print(\"\\nOMG! It contains rubies and diamonds. You are so lucky! 💎\")\n",
    "        else:\n",
    "            print(\"\\nYou walk away and miss the treasure. Game over!\")\n",
    "\n",
    "    else:\n",
    "        print(\"\\nYou ignore the box and continue walking.\")\n",
    "        print(\"Suddenly, a wild animal appears! You run away safely, but find nothing interesting. Game over!\")\n",
    "\n",
    "elif choice1 == \"dark\":\n",
    "    print(\"\\nIt leads to the opening of a horrible tunnel.\")\n",
    "    print(\"Do you want to travel by foot or by cycle?\")\n",
    "    choice2 = input(\"Type 'foot' or 'cycle': \").lower()\n",
    "\n",
    "    if choice2 == \"cycle\":\n",
    "        print(\"\\nInside the tunnel, you meet a wise old monk who gives you a magical sword. You win! ⚔️\")\n",
    "    else:\n",
    "        print(\"\\nYou walk through the tunnel and get lost in the dark. Game over!\")\n",
    "\n",
    "else:\n",
    "    print(\"\\nInvalid choice! Please restart the game.\")\n"
   ]
  },
  {
   "cell_type": "markdown",
   "id": "4c86c198-70f7-4e99-bb32-b6e7fd6d41d4",
   "metadata": {},
   "source": [
    "<h4><b>Ques25:</b> Build a program that solves a linear equation for x, considering different cases.</h4>\n"
   ]
  },
  {
   "cell_type": "markdown",
   "id": "1902fe28-3f0e-4906-8700-c598872861d5",
   "metadata": {},
   "source": [
    "<h5><u><b>Answer:<u></b></h5> \n"
   ]
  },
  {
   "cell_type": "code",
   "execution_count": 1,
   "id": "19eb59d9-608d-438e-ba32-3b5ea9cd2eeb",
   "metadata": {},
   "outputs": [
    {
     "name": "stdin",
     "output_type": "stream",
     "text": [
      "Enter the value of a:  2\n",
      "Enter the value of b:  4\n"
     ]
    },
    {
     "name": "stdout",
     "output_type": "stream",
     "text": [
      "The solution is x = -2.0\n"
     ]
    }
   ],
   "source": [
    "\n",
    "a = float(input(\"Enter the value of a: \"))\n",
    "b = float(input(\"Enter the value of b: \"))\n",
    "\n",
    "# Check different cases\n",
    "if a == 0:\n",
    "    if b == 0:\n",
    "        print(\"Infinite solutions (any value of x satisfies the equation).\")\n",
    "    else:\n",
    "        print(\"No solution (equation is inconsistent).\")\n",
    "else:\n",
    "    x = -b / a\n",
    "    print(\"The solution is x =\", x)\n"
   ]
  },
  {
   "cell_type": "markdown",
   "id": "055fc3c5-f5ba-4476-85f7-4399dff29555",
   "metadata": {},
   "source": [
    "<h4><b>Ques26:</b>Write a program that simulates a basic quiz game with multiple-choice questions and scoring.</h4>\n"
   ]
  },
  {
   "cell_type": "markdown",
   "id": "bc726e48-8998-4cf2-97b3-abc89eeb90ec",
   "metadata": {},
   "source": [
    "<h5><u><b>Answer:<u></b></h5>"
   ]
  },
  {
   "cell_type": "code",
   "execution_count": 22,
   "id": "82e6ad6e-6b53-4e98-bff4-5199c4d2b63a",
   "metadata": {},
   "outputs": [
    {
     "name": "stdout",
     "output_type": "stream",
     "text": [
      "1. Who is the current Prime Minister of India?\n",
      "a) Narendra Modi  b) Jaisankar c) Draupadi Murmu  d) Shriman Singh\n"
     ]
    },
    {
     "name": "stdin",
     "output_type": "stream",
     "text": [
      "Enter your answer:  Narendra Modi\n"
     ]
    },
    {
     "name": "stdout",
     "output_type": "stream",
     "text": [
      "2. Who developed Python?\n",
      "a) Dennis Ritchie  b) Guido van Rossum  c) James Gosling  d) Elon Musk\n"
     ]
    },
    {
     "name": "stdin",
     "output_type": "stream",
     "text": [
      "Enter your answer:  Guido van Rossum\n"
     ]
    },
    {
     "name": "stdout",
     "output_type": "stream",
     "text": [
      "3. Largest planet?\n",
      "a) Earth  b) Mars  c) Jupiter  d) Saturn\n"
     ]
    },
    {
     "name": "stdin",
     "output_type": "stream",
     "text": [
      "Enter your answer:  Jupiter\n"
     ]
    },
    {
     "name": "stdout",
     "output_type": "stream",
     "text": [
      "Your score is: 0 / 3\n"
     ]
    }
   ],
   "source": [
    "# Simple Quiz Game\n",
    "score = 0\n",
    "\n",
    "print(\"1. Who is the current Prime Minister of India?\")\n",
    "print(\"a) Narendra Modi  b) Jaisankar c) Draupadi Murmu  d) Shriman Singh\")\n",
    "ans = input(\"Enter your answer: \")\n",
    "if ans.lower() == 'a':\n",
    "    score += 1\n",
    "\n",
    "print(\"2. Who developed Python?\")\n",
    "print(\"a) Dennis Ritchie  b) Guido van Rossum  c) James Gosling  d) Elon Musk\")\n",
    "ans = input(\"Enter your answer: \")\n",
    "if ans.lower() == 'b':\n",
    "    score += 1\n",
    "\n",
    "print(\"3. Largest planet?\")\n",
    "print(\"a) Earth  b) Mars  c) Jupiter  d) Saturn\")\n",
    "ans = input(\"Enter your answer: \")\n",
    "if ans.lower() == 'c':\n",
    "    score += 1\n",
    "\n",
    "print(\"Your score is:\", score, \"/ 3\")\n"
   ]
  },
  {
   "cell_type": "code",
   "execution_count": null,
   "id": "3ae52cb7-927a-4022-9bac-34366a46be44",
   "metadata": {},
   "outputs": [],
   "source": []
  },
  {
   "cell_type": "markdown",
   "id": "df819043-f743-4e78-b90f-c06964227eaa",
   "metadata": {},
   "source": [
    "<h4><b>Ques27:</b>Develop a program that determines whether a given year is a prime number or not</h4>\n"
   ]
  },
  {
   "cell_type": "markdown",
   "id": "4433805f-a47f-45db-bb5a-7d46709d22c5",
   "metadata": {},
   "source": [
    "<h5><u><b>Answer:<u></b></h5>"
   ]
  },
  {
   "cell_type": "code",
   "execution_count": 24,
   "id": "6622356d-d803-44f1-bc88-3412466ad99c",
   "metadata": {},
   "outputs": [
    {
     "name": "stdin",
     "output_type": "stream",
     "text": [
      "Enter the year : 1999\n"
     ]
    },
    {
     "name": "stdout",
     "output_type": "stream",
     "text": [
      "1999 is a prime number.\n"
     ]
    }
   ],
   "source": [
    "year=int(input(\"Enter the year :\"))\n",
    "\n",
    "if year > 1:\n",
    "    for i in range(2, int(year**0.5) + 1):\n",
    "        if year % i == 0:\n",
    "            print(year, \"is not a prime number.\")\n",
    "            break\n",
    "    else:\n",
    "        print(year, \"is a prime number.\")\n",
    "else:\n",
    "    print(year, \"is not a prime number.\")\n",
    "         \n",
    "            "
   ]
  },
  {
   "cell_type": "code",
   "execution_count": null,
   "id": "ad11c84d-124a-4caf-8fb3-a4fe44f76053",
   "metadata": {},
   "outputs": [],
   "source": []
  },
  {
   "cell_type": "markdown",
   "id": "f8226c17-735e-47b8-a945-ece318c246e2",
   "metadata": {},
   "source": [
    "<h4><b>Ques28:</b> Create a program that sorts three numbers in ascending order using conditional statements.</h4>\n"
   ]
  },
  {
   "cell_type": "markdown",
   "id": "a16f6b6e-9dd7-43b3-bdef-9f884d8149cf",
   "metadata": {},
   "source": [
    "<h5><u><b>Answer:<u></b></h5>"
   ]
  },
  {
   "cell_type": "code",
   "execution_count": 25,
   "id": "705866f8-b4b4-473a-bb8a-207e3f8a86e9",
   "metadata": {},
   "outputs": [
    {
     "name": "stdin",
     "output_type": "stream",
     "text": [
      "Enter first number:  10\n",
      "Enter second number:  50\n",
      "Enter third number:  2\n"
     ]
    },
    {
     "name": "stdout",
     "output_type": "stream",
     "text": [
      "2.0 10.0 50.0\n"
     ]
    }
   ],
   "source": [
    "a = float(input(\"Enter first number: \"))\n",
    "b = float(input(\"Enter second number: \"))\n",
    "c = float(input(\"Enter third number: \"))\n",
    "\n",
    "if a <= b and a <= c:\n",
    "    if b <= c:\n",
    "        print(a, b, c)\n",
    "    else:\n",
    "        print(a, c, b)\n",
    "elif b <= a and b <= c:\n",
    "    if a <= c:\n",
    "        print(b, a, c)\n",
    "    else:\n",
    "        print(b, c, a)\n",
    "else:\n",
    "    if a <= b:\n",
    "        print(c, a, b)\n",
    "    else:\n",
    "        print(c, b, a)\n"
   ]
  },
  {
   "cell_type": "markdown",
   "id": "022f585b-5b2a-4ece-9941-be294829837f",
   "metadata": {},
   "source": [
    "<h4><b>Ques29:</b> Build a program that determines the roots of a quartic equation using numerical methods. </h4>\n"
   ]
  },
  {
   "cell_type": "markdown",
   "id": "4eb8a1b2-fc95-460a-803e-86024c66fb2c",
   "metadata": {},
   "source": [
    "<h5><u><b>Answer:<u></b></h5>"
   ]
  },
  {
   "cell_type": "code",
   "execution_count": null,
   "id": "5e1ede7a-84c4-4011-8b77-eb035d48dbc6",
   "metadata": {},
   "outputs": [],
   "source": [
    "import numpy as np\n",
    "\n",
    "print(\"Equation: a*x^4 + b*x^3 + c*x^2 + d*x + e = 0\")\n",
    "a = float(input(\"Enter the value of  a: \"))\n",
    "b = float(input(\"Enter the value of  b: \"))\n",
    "b = float(input(\"Enter the value of  c: \"))\n",
    "c = float(input(\"Enter the value of  d: \"))\n",
    "d = float(input(\"Enter the value of e: \"))\n",
    "\n",
    "coeff = [a, b, c, d, e]\n",
    "roots = np.roots(coeff)\n",
    "\n",
    "print(\"Roots are:\")\n",
    "for r in roots:\n",
    "    print(r)\n"
   ]
  },
  {
   "cell_type": "markdown",
   "id": "7c1d0bec-f54c-44ad-a9da-a724977bd4f3",
   "metadata": {},
   "source": [
    "<h4><b>Ques30:</b> Write a program that calculates the BMI (Body Mass Index) and provides health recommendations based on the user's input.</h4>\n"
   ]
  },
  {
   "cell_type": "markdown",
   "id": "bbfdacd3-4f53-43d7-9865-3b35e542f313",
   "metadata": {},
   "source": [
    "<h5><u><b>Answer:<u></b></h5>"
   ]
  },
  {
   "cell_type": "code",
   "execution_count": 31,
   "id": "a3acb1d1-d466-4d4f-9edf-8ed52a99ead7",
   "metadata": {},
   "outputs": [
    {
     "name": "stdin",
     "output_type": "stream",
     "text": [
      "Enter weight (kg):  50\n",
      "Enter height (m):  20\n"
     ]
    },
    {
     "name": "stdout",
     "output_type": "stream",
     "text": [
      "Your BMI is: 0.12\n",
      " You are Underweight\n"
     ]
    }
   ],
   "source": [
    "weight = float(input(\"Enter weight (kg): \"))\n",
    "height = float(input(\"Enter height (m): \"))\n",
    "\n",
    "bmi = weight / (height ** 2)\n",
    "print(\"Your BMI is:\", round(bmi, 2))\n",
    "\n",
    "if bmi < 18.5:\n",
    "    print(\" You are Underweight\")\n",
    "elif bmi < 25:\n",
    "    print(\" You are Normal weight\")\n",
    "elif bmi < 30:\n",
    "    print(\" oh no! You are Overweight\")\n",
    "else:\n",
    "    print(\" You aren Obese\")\n"
   ]
  },
  {
   "cell_type": "markdown",
   "id": "e841b7d2-4273-4c50-820d-00cc23f8948e",
   "metadata": {},
   "source": [
    "<h2><b><u><span style=\"color:red\">Control Flow</span></u></b></h2>"
   ]
  },
  {
   "cell_type": "markdown",
   "id": "2d1c003e-b815-42ce-aaa0-866de19fe750",
   "metadata": {},
   "source": [
    "<h4><b>Ques1:</b>Write a Python program to print the numbers from 1 to 10 using a `for` loop.</h4>\n"
   ]
  },
  {
   "cell_type": "code",
   "execution_count": 3,
   "id": "887e8d7f-f07c-4698-b439-ddacc444e617",
   "metadata": {},
   "outputs": [
    {
     "name": "stdout",
     "output_type": "stream",
     "text": [
      "1\n",
      "2\n",
      "3\n",
      "4\n",
      "5\n",
      "6\n",
      "7\n",
      "8\n",
      "9\n",
      "10\n"
     ]
    }
   ],
   "source": [
    "for i in range(1,11):\n",
    "    print(i)"
   ]
  },
  {
   "cell_type": "markdown",
   "id": "9e144bc8-af8d-4e99-bd4f-d14843656296",
   "metadata": {},
   "source": [
    "<h4><b>Ques2:</b>Create a program that calculates the sum of all numbers in a list using a `for` loop. </h4>\n"
   ]
  },
  {
   "cell_type": "code",
   "execution_count": 5,
   "id": "59b2a3c9-8481-46bd-9a58-9940c493dd58",
   "metadata": {},
   "outputs": [
    {
     "name": "stdout",
     "output_type": "stream",
     "text": [
      "Sum: 20\n"
     ]
    }
   ],
   "source": [
    "numbers=[2,3,4,5,6]\n",
    "total=0\n",
    "for n in numbers:\n",
    "    total+=n\n",
    "print(\"Sum:\",total)\n"
   ]
  },
  {
   "cell_type": "markdown",
   "id": "b3cfae49-4330-4912-8934-cddc97992ed2",
   "metadata": {},
   "source": [
    "<h4><b>Ques3:</b>Write a program to print the characters of a string in reverse order using a `for` loop. </h4>\n"
   ]
  },
  {
   "cell_type": "code",
   "execution_count": 8,
   "id": "66d3dfef-e259-4ce1-b4b0-121299cf6c9a",
   "metadata": {},
   "outputs": [
    {
     "name": "stdout",
     "output_type": "stream",
     "text": [
      "N\n",
      "O\n",
      "H\n",
      "T\n",
      "Y\n",
      "P\n"
     ]
    }
   ],
   "source": [
    "word=\"PYTHON\"\n",
    "for ch in reversed(word):\n",
    "    print(ch)"
   ]
  },
  {
   "cell_type": "markdown",
   "id": "cc0b2d46-3be0-41ef-8bd7-109159f743be",
   "metadata": {},
   "source": [
    "<h4><b>Ques4:</b>Develop a program that finds the factorial of a given number using a `for` loop</h4>\n"
   ]
  },
  {
   "cell_type": "code",
   "execution_count": 13,
   "id": "df6d9856-4ead-42a9-a9e7-3c7806a4c37d",
   "metadata": {},
   "outputs": [
    {
     "name": "stdin",
     "output_type": "stream",
     "text": [
      "Enter a number:  5\n"
     ]
    },
    {
     "name": "stdout",
     "output_type": "stream",
     "text": [
      "Factorial: 120\n"
     ]
    }
   ],
   "source": [
    "num = int(input(\"Enter a number: \"))\n",
    "factorial = 1\n",
    "for i in range(1, num + 1):\n",
    "    factorial *= i\n",
    "print(\"Factorial:\", factorial)\n",
    "\n"
   ]
  },
  {
   "cell_type": "markdown",
   "id": "8203e165-7f08-4805-b1ea-bd98a22badaf",
   "metadata": {},
   "source": [
    "<h4><b>Ques5:</b>Create a program to print the multiplication table of a given number using a `for` loop</h4>\n"
   ]
  },
  {
   "cell_type": "code",
   "execution_count": 17,
   "id": "3a53b06f-5ad7-4ef5-a60f-a48b0af67aec",
   "metadata": {},
   "outputs": [
    {
     "name": "stdin",
     "output_type": "stream",
     "text": [
      "Enter a number: 5\n"
     ]
    },
    {
     "name": "stdout",
     "output_type": "stream",
     "text": [
      "5 x 1 = 5\n",
      "5 x 2 = 10\n",
      "5 x 3 = 15\n",
      "5 x 4 = 20\n",
      "5 x 5 = 25\n",
      "5 x 6 = 30\n",
      "5 x 7 = 35\n",
      "5 x 8 = 40\n",
      "5 x 9 = 45\n",
      "5 x 10 = 50\n"
     ]
    }
   ],
   "source": [
    "num=int(input(\"Enter a number:\"))\n",
    "for i in range(1,11):\n",
    "     print(num,'x',i,'=',num*i) "
   ]
  },
  {
   "cell_type": "markdown",
   "id": "96b294ff-9ba0-4094-bbed-98aad9ec6dd7",
   "metadata": {},
   "source": [
    "<h4><b>Ques6:</b>Write a program that counts the number of even and odd numbers in a list using a `for` loop.</h4>\n"
   ]
  },
  {
   "cell_type": "code",
   "execution_count": 24,
   "id": "9455bf12-a37e-4b1a-b801-4a62c89ddf56",
   "metadata": {},
   "outputs": [
    {
     "name": "stdout",
     "output_type": "stream",
     "text": [
      "The number of even numbers: 4 \n",
      "The number of odd numbers: 5\n"
     ]
    }
   ],
   "source": [
    "list=[1,2,3,4,5,6,7,8,9]\n",
    "count_even=0\n",
    "count_odd=0\n",
    "for i in list:\n",
    "    if i%2==0:\n",
    "        count_even +=1\n",
    "    else:   \n",
    "        count_odd +=1\n",
    "print(\"The number of even numbers:\",count_even,\"\\nThe number of odd numbers:\",count_odd)        "
   ]
  },
  {
   "cell_type": "markdown",
   "id": "356e6cb9-5f31-44d0-9253-6819bc417438",
   "metadata": {},
   "source": [
    "<h4><b>Ques7:</b>Develop a program that prints the squares of numbers from 1 to 5 using a `for` loop.</h4>\n"
   ]
  },
  {
   "cell_type": "code",
   "execution_count": 25,
   "id": "19119af5-152a-42f7-a334-64698d20481f",
   "metadata": {},
   "outputs": [
    {
     "name": "stdout",
     "output_type": "stream",
     "text": [
      "The square of 1 is: 1\n",
      "The square of 2 is: 4\n",
      "The square of 3 is: 9\n",
      "The square of 4 is: 16\n",
      "The square of 5 is: 25\n"
     ]
    }
   ],
   "source": [
    "\n",
    "for i in range(1,6):\n",
    "    print(\"The square of\",i,\"is:\",i**2)"
   ]
  },
  {
   "cell_type": "markdown",
   "id": "9872119a-6099-4434-8b05-e9ea6819e051",
   "metadata": {},
   "source": [
    "<h4><b>Ques8:</b>Create a program to find the length of a string without using the `len()` function. </h4>\n"
   ]
  },
  {
   "cell_type": "code",
   "execution_count": 26,
   "id": "77836296-6871-4cd2-945f-e16e14a707fe",
   "metadata": {},
   "outputs": [
    {
     "name": "stdin",
     "output_type": "stream",
     "text": [
      "Enter the string: python\n"
     ]
    },
    {
     "name": "stdout",
     "output_type": "stream",
     "text": [
      "The length of the string is : 6\n"
     ]
    }
   ],
   "source": [
    "string=input(\"Enter the string:\")\n",
    "count=0\n",
    "for ch in string:\n",
    "    count+=1\n",
    "print(\"The length of the string is :\",count)    \n",
    "\n",
    "\n",
    "\n"
   ]
  },
  {
   "cell_type": "markdown",
   "id": "27f72e9e-275c-4959-9a91-95281f826e13",
   "metadata": {},
   "source": [
    "<h4><b>Ques9:</b> Write a program that calculates the average of a list of numbers using a `for` loop.  </h4>\n"
   ]
  },
  {
   "cell_type": "code",
   "execution_count": 30,
   "id": "cc442cf1-922b-4ba6-9b38-252ad6180cb3",
   "metadata": {},
   "outputs": [
    {
     "name": "stdout",
     "output_type": "stream",
     "text": [
      "The average of numbers: 3.5\n"
     ]
    }
   ],
   "source": [
    "num=[1,2,3,4,5,6]\n",
    "total=0\n",
    "for i in num:\n",
    "    total+=i\n",
    "avg=total/len(num)\n",
    "print(\"The average of numbers:\",avg)\n",
    "\n",
    "\n"
   ]
  },
  {
   "cell_type": "markdown",
   "id": "e6de4ad4-ecad-4064-9c54-28dabcfbab2b",
   "metadata": {},
   "source": [
    "<h4><b>Ques10:</b> Develop a program that prints the first `n` Fibonacci numbers using a `for` loop. </h4>\n"
   ]
  },
  {
   "cell_type": "code",
   "execution_count": 31,
   "id": "9bf1bf4d-61fe-4c2f-b4f2-f75b05d8dc88",
   "metadata": {},
   "outputs": [
    {
     "name": "stdin",
     "output_type": "stream",
     "text": [
      "Enter the length of fibonacii series) 7\n"
     ]
    },
    {
     "name": "stdout",
     "output_type": "stream",
     "text": [
      "0\n",
      "1\n",
      "1\n",
      "2\n",
      "3\n",
      "5\n"
     ]
    }
   ],
   "source": [
    "\n",
    "num=int(input(\"Enter the length of fibonacii series)\"))\n",
    "a,b=0,1\n",
    "for i in range(n):\n",
    "    print(a)\n",
    "    a,b=b,a+b\n",
    "    "
   ]
  },
  {
   "cell_type": "markdown",
   "id": "756724a5-8cf8-42a5-aed4-f4f1b984a77e",
   "metadata": {},
   "source": [
    "<h4><b>Ques11:</b> Write a program to check if a given list contains any duplicates using a `for` loop.</h4>\n"
   ]
  },
  {
   "cell_type": "code",
   "execution_count": 6,
   "id": "4519060b-dc75-4fb0-bdf0-4afa2ce3b776",
   "metadata": {},
   "outputs": [
    {
     "name": "stdout",
     "output_type": "stream",
     "text": [
      " Does it Contains any  duplicate? : True\n"
     ]
    }
   ],
   "source": [
    "list=[1,2,3,4,5,1,3,4]\n",
    "dup=False\n",
    "for i in range(len(list)):\n",
    "    for j in range(i+1,len(list)):\n",
    "        if list[i]==list[j]:\n",
    "           dup=True\n",
    "           break\n",
    "print(\" Does it Contains any  duplicate? :\",dup)\n",
    "\n",
    "\n",
    "\n"
   ]
  },
  {
   "cell_type": "markdown",
   "id": "2e4430f5-dbd9-462a-be41-2946a36c7db3",
   "metadata": {},
   "source": [
    "<h4><b>Ques12:</b> Create a program that prints the prime numbers in a given range using a `for` loop. </h4>\n"
   ]
  },
  {
   "cell_type": "code",
   "execution_count": 7,
   "id": "b9c7449e-439b-4191-823c-c064f98e63f9",
   "metadata": {},
   "outputs": [
    {
     "name": "stdout",
     "output_type": "stream",
     "text": [
      "5\n",
      "7\n",
      "9\n",
      "11\n",
      "11\n",
      "13\n",
      "13\n",
      "15\n",
      "17\n",
      "17\n",
      "17\n",
      "19\n",
      "19\n",
      "19\n"
     ]
    }
   ],
   "source": [
    "for num in range(2,21):\n",
    "    for i in range(2,int(num**0.5)+1):\n",
    "        if num%i ==0:\n",
    "            break\n",
    "        else:\n",
    "            print(num)\n",
    "\n",
    "\n",
    "\n",
    "\n"
   ]
  },
  {
   "cell_type": "markdown",
   "id": "c0093213-ebef-47a5-ab94-b77be9de403d",
   "metadata": {},
   "source": [
    "<h4><b>Ques13:</b> Develop a program that counts the number of vowels in a string using a `for` loop.</h4>\n"
   ]
  },
  {
   "cell_type": "code",
   "execution_count": 8,
   "id": "8e44ef57-655e-44ff-b642-905ac4f78d73",
   "metadata": {},
   "outputs": [
    {
     "name": "stdin",
     "output_type": "stream",
     "text": [
      "Enter the string: Muskan\n"
     ]
    },
    {
     "name": "stdout",
     "output_type": "stream",
     "text": [
      "No of Vowels: 2\n"
     ]
    }
   ],
   "source": [
    "\n",
    "text=input(\"Enter the string:\")\n",
    "vowels=\"aeiouAEIOU\"\n",
    "count=0\n",
    "for ch in text:\n",
    "    if ch in vowels:\n",
    "        count+=1\n",
    "print(\"No of Vowels:\",count)        "
   ]
  },
  {
   "cell_type": "markdown",
   "id": "e283e789-11f7-46e3-a6cf-9f152f64b952",
   "metadata": {},
   "source": [
    "<h4><b>Ques14:</b> Write a program to find the maximum element in a 2D list using a nested `for` loop.</h4>\n"
   ]
  },
  {
   "cell_type": "code",
   "execution_count": 9,
   "id": "409c5983-0976-41e7-b87a-f87ec04b8826",
   "metadata": {},
   "outputs": [
    {
     "name": "stdout",
     "output_type": "stream",
     "text": [
      "Maximum: 8\n"
     ]
    }
   ],
   "source": [
    "matrix = [[1, 5, 3], [7, 2, 8], [4, 6, 0]]\n",
    "maximum_val = matrix[0][0]\n",
    "for row in matrix:\n",
    "    for val in row:\n",
    "        if val > maximum_val:\n",
    "            maximum_val = val\n",
    "print(\"Maximum:\", maximum_val)\n"
   ]
  },
  {
   "cell_type": "markdown",
   "id": "a67f995f-c208-46e1-a061-3a86ec7a0521",
   "metadata": {},
   "source": [
    "<h4><b>Ques15:</b>. Create a program that removes all occurrences of a specific element from a list using a `for` loop. </h4>\n"
   ]
  },
  {
   "cell_type": "code",
   "execution_count": 12,
   "id": "fa7f8f7f-7df5-4d04-8577-3544e3c87828",
   "metadata": {},
   "outputs": [
    {
     "name": "stdout",
     "output_type": "stream",
     "text": [
      "After removal: [1, 2, 4, 5, 1, 2, 4]\n"
     ]
    }
   ],
   "source": [
    "\n",
    "\n",
    "\n",
    "num=[1,2,3,4,5,1,2,3,4]\n",
    "item=3\n",
    "new_list=[]\n",
    "for n in num:\n",
    "    if n==item:\n",
    "        num.remove(n)\n",
    "print(\"After removal:\",num)"
   ]
  },
  {
   "cell_type": "markdown",
   "id": "9d03b87f-e3a9-42a7-8b7a-cc1202fe713c",
   "metadata": {},
   "source": [
    "<h4><b>Ques16:</b> Develop a program that generates a multiplication table for numbers from 1 to 5 using a nested `for` loop. </h4>\n"
   ]
  },
  {
   "cell_type": "code",
   "execution_count": 13,
   "id": "34d754fe-a1c6-45ef-bd5d-256ac880c81a",
   "metadata": {},
   "outputs": [
    {
     "name": "stdout",
     "output_type": "stream",
     "text": [
      "1 x 1 = 1\n",
      "\n",
      "1 x 2 = 2\n",
      "\n",
      "1 x 3 = 3\n",
      "\n",
      "1 x 4 = 4\n",
      "\n",
      "1 x 5 = 5\n",
      "\n",
      "1 x 6 = 6\n",
      "\n",
      "1 x 7 = 7\n",
      "\n",
      "1 x 8 = 8\n",
      "\n",
      "1 x 9 = 9\n",
      "\n",
      "1 x 10 = 10\n",
      "\n",
      "2 x 1 = 2\n",
      "\n",
      "2 x 2 = 4\n",
      "\n",
      "2 x 3 = 6\n",
      "\n",
      "2 x 4 = 8\n",
      "\n",
      "2 x 5 = 10\n",
      "\n",
      "2 x 6 = 12\n",
      "\n",
      "2 x 7 = 14\n",
      "\n",
      "2 x 8 = 16\n",
      "\n",
      "2 x 9 = 18\n",
      "\n",
      "2 x 10 = 20\n",
      "\n",
      "3 x 1 = 3\n",
      "\n",
      "3 x 2 = 6\n",
      "\n",
      "3 x 3 = 9\n",
      "\n",
      "3 x 4 = 12\n",
      "\n",
      "3 x 5 = 15\n",
      "\n",
      "3 x 6 = 18\n",
      "\n",
      "3 x 7 = 21\n",
      "\n",
      "3 x 8 = 24\n",
      "\n",
      "3 x 9 = 27\n",
      "\n",
      "3 x 10 = 30\n",
      "\n",
      "4 x 1 = 4\n",
      "\n",
      "4 x 2 = 8\n",
      "\n",
      "4 x 3 = 12\n",
      "\n",
      "4 x 4 = 16\n",
      "\n",
      "4 x 5 = 20\n",
      "\n",
      "4 x 6 = 24\n",
      "\n",
      "4 x 7 = 28\n",
      "\n",
      "4 x 8 = 32\n",
      "\n",
      "4 x 9 = 36\n",
      "\n",
      "4 x 10 = 40\n",
      "\n",
      "5 x 1 = 5\n",
      "\n",
      "5 x 2 = 10\n",
      "\n",
      "5 x 3 = 15\n",
      "\n",
      "5 x 4 = 20\n",
      "\n",
      "5 x 5 = 25\n",
      "\n",
      "5 x 6 = 30\n",
      "\n",
      "5 x 7 = 35\n",
      "\n",
      "5 x 8 = 40\n",
      "\n",
      "5 x 9 = 45\n",
      "\n",
      "5 x 10 = 50\n",
      "\n"
     ]
    }
   ],
   "source": [
    "\n",
    "\n",
    "for i in range(1,6):\n",
    "    for j in range(1,11):\n",
    "        print(i,'x',j,'=',i*j)\n",
    "        print()"
   ]
  },
  {
   "cell_type": "markdown",
   "id": "6c0df572-41b3-4f88-9f7f-c8c1e05d06d8",
   "metadata": {},
   "source": [
    "<h4><b>Ques17:</b> Write a program that converts a list of Fahrenheit temperatures to Celsius using a `for` loop. </h4>\n"
   ]
  },
  {
   "cell_type": "code",
   "execution_count": 20,
   "id": "fba19881-97d4-44ca-ab30-cc1f7d119625",
   "metadata": {},
   "outputs": [
    {
     "name": "stdout",
     "output_type": "stream",
     "text": [
      "100 °F = 37.78 °C\n",
      "90 °F = 32.22 °C\n",
      "60 °F = 15.56 °C\n"
     ]
    }
   ],
   "source": [
    "temps = [100,90,60]\n",
    "for f in temps:\n",
    "    c = (f - 32) * 5 / 9\n",
    "    print(f, \"°F =\", round(c, 2), \"°C\")\n",
    "\n"
   ]
  },
  {
   "cell_type": "markdown",
   "id": "2f3bac5b-f4ce-4bdc-be44-3fc2fadcd9e1",
   "metadata": {},
   "source": [
    "<h4><b>Ques18:</b>Create a program to print the common elements from two lists using a `for` loop. </h4>\n"
   ]
  },
  {
   "cell_type": "code",
   "execution_count": 36,
   "id": "018cf55f-bd86-46e2-aa0d-5bad7798b151",
   "metadata": {},
   "outputs": [
    {
     "name": "stdout",
     "output_type": "stream",
     "text": [
      "The common elements in the lists are: 2\n",
      "The common elements in the lists are: 4\n"
     ]
    }
   ],
   "source": [
    "list1=[2,4,6,7]\n",
    "list2=[1,2,3,4]\n",
    "for x in list1:\n",
    "    if x in list2:\n",
    "        print(\"The common elements in the lists are:\",x)\n"
   ]
  },
  {
   "cell_type": "markdown",
   "id": "3d2d1e83-7582-49fb-b485-e919c647d8d4",
   "metadata": {},
   "source": [
    "<h4><b>Ques19:</b>Develop a program that prints the pattern of right-angled triangles using a `for` loop. Use ‘*’ to draw the pattern</h4>\n"
   ]
  },
  {
   "cell_type": "code",
   "execution_count": 38,
   "id": "8181308a-9f2b-4f3c-8677-767a98410b99",
   "metadata": {},
   "outputs": [
    {
     "name": "stdout",
     "output_type": "stream",
     "text": [
      "*\n",
      "**\n",
      "***\n",
      "****\n",
      "*****\n",
      "******\n",
      "*******\n"
     ]
    }
   ],
   "source": [
    "rows = 7\n",
    "for i in range(1, rows + 1):\n",
    "    print(\"*\" * i)\n"
   ]
  },
  {
   "cell_type": "markdown",
   "id": "ac87c304-ac8d-49fd-b7d5-e23d1ad233bc",
   "metadata": {},
   "source": [
    "<h4><b>Ques20:</b>. Write a program to find the greatest common divisor (GCD) of two numbers using a `for` loop. </h4>\n"
   ]
  },
  {
   "cell_type": "code",
   "execution_count": 39,
   "id": "a4a177bb-af7a-41fc-ae42-e776fb725ec4",
   "metadata": {},
   "outputs": [
    {
     "name": "stdin",
     "output_type": "stream",
     "text": [
      "Enter first number:  5\n",
      "Enter second number:  7\n"
     ]
    },
    {
     "name": "stdout",
     "output_type": "stream",
     "text": [
      " The GCD value is : 1\n"
     ]
    }
   ],
   "source": [
    "a = int(input(\"Enter first number: \"))\n",
    "b = int(input(\"Enter second number: \"))\n",
    "\n",
    "for i in range(1, min(a, b) + 1):\n",
    "    if a % i == 0 and b % i == 0:\n",
    "        gcd = i\n",
    "print(\" The GCD value is :\",gcd)\n"
   ]
  },
  {
   "cell_type": "markdown",
   "id": "ee3c485c-40ae-4427-80ce-ab91be818045",
   "metadata": {},
   "source": [
    "<h2><b><u><span style=\"color:red\">Functions</span></u></b></h2>"
   ]
  },
  {
   "cell_type": "markdown",
   "id": "c65404bf-2e25-45f4-bd6b-405527eb32ef",
   "metadata": {},
   "source": [
    "<h4><b>Ques1:</b>What is a function in Python, and why is it used?</h4>\n"
   ]
  },
  {
   "cell_type": "markdown",
   "id": "f1b1bdb4-17cd-45a3-9c46-1c33427c664d",
   "metadata": {},
   "source": [
    "A function is a block of reusable code that performs a specific task. It helps avoid repeating code and makes programs easier to read and maintain.\n",
    "\n"
   ]
  },
  {
   "cell_type": "code",
   "execution_count": null,
   "id": "a70ae4b7-dc37-449f-aa1f-40e1b565181b",
   "metadata": {},
   "outputs": [],
   "source": [
    "def greet():\n",
    "    print(\"Hello,this is my assignment 2!\")\n",
    "greet()\n"
   ]
  },
  {
   "cell_type": "markdown",
   "id": "b150c1ef-65a9-45b9-a2a5-bbf24119b568",
   "metadata": {},
   "source": [
    "<h4><b>Ques2:</b>How do you define a function in Python? Provide an example. </h4>\n"
   ]
  },
  {
   "cell_type": "markdown",
   "id": "89106535-27df-4915-afc9-4ea230ab1edf",
   "metadata": {},
   "source": [
    "The function is defined by usnig def keyword"
   ]
  },
  {
   "cell_type": "code",
   "execution_count": 1,
   "id": "d37c0c32-fa03-430e-af77-6cb5f02a19c2",
   "metadata": {},
   "outputs": [
    {
     "name": "stdout",
     "output_type": "stream",
     "text": [
      "8\n"
     ]
    }
   ],
   "source": [
    "def add(num1, num2):\n",
    "    return num1+ num2\n",
    "\n",
    "print(add(3, 5))\n"
   ]
  },
  {
   "cell_type": "markdown",
   "id": "b9008343-fd88-4449-9057-42d3e59426d3",
   "metadata": {},
   "source": [
    "<h4><b>Ques3:</b>Explain the difference between a function definition and a function call. </h4>\n"
   ]
  },
  {
   "cell_type": "markdown",
   "id": "faa227ae-8dc1-447e-8aca-591ef593bfa0",
   "metadata": {},
   "source": [
    "Function definition: Where you write what the function does.\n",
    "\n",
    "Function call: Where you actually use (run) the function.\n",
    "\n",
    "Example:"
   ]
  },
  {
   "cell_type": "markdown",
   "id": "799321dd-e839-404f-98cc-dc38b3edc4f6",
   "metadata": {},
   "source": [
    "def say_welcome():  \n",
    "    print(\"swagatam\")\n",
    "\n",
    "say_welcome()  #\n"
   ]
  },
  {
   "cell_type": "markdown",
   "id": "f881b0da-62be-44c6-9088-78f1fe6004a2",
   "metadata": {},
   "source": [
    "<h4><b>Ques4:</b>Write a Python program that defines a function to calculate the sum of two numbers and then calls the function. </h4>\n"
   ]
  },
  {
   "cell_type": "code",
   "execution_count": 7,
   "id": "b23cedb0-be5f-4b58-875b-a27bc1c0f36b",
   "metadata": {},
   "outputs": [
    {
     "name": "stdout",
     "output_type": "stream",
     "text": [
      "addition: 15\n"
     ]
    }
   ],
   "source": [
    "def add(x, y):\n",
    "    return x + y\n",
    "\n",
    "result = add(10, 5)\n",
    "print(\"addition:\", result)\n"
   ]
  },
  {
   "cell_type": "markdown",
   "id": "3ca63c3a-78eb-489d-af6d-cf668d1d4829",
   "metadata": {},
   "source": [
    "<h4><b>Ques5:</b>What is a function signature, and what information does it typically include? </h4>\n"
   ]
  },
  {
   "cell_type": "markdown",
   "id": "455154f9-e709-490e-a78c-8c00a0b94a78",
   "metadata": {},
   "source": [
    "function signature shows the function’s name, its parameters, and what it return"
   ]
  },
  {
   "cell_type": "code",
   "execution_count": 26,
   "id": "991e894a-e735-4bcd-b179-fc731aa7f7d2",
   "metadata": {},
   "outputs": [],
   "source": [
    "def add(a: int, b: int) -> int:\n",
    "    return a + b\n"
   ]
  },
  {
   "cell_type": "markdown",
   "id": "7815cfa1-d872-4192-a647-3edfc0d6ce01",
   "metadata": {},
   "source": [
    "<h4><b>Ques6:</b>Create a Python function that takes two arguments and returns their product.</h4>\n"
   ]
  },
  {
   "cell_type": "code",
   "execution_count": 11,
   "id": "a65dc091-f22d-4e5e-897d-c1cca17e5759",
   "metadata": {},
   "outputs": [
    {
     "name": "stdout",
     "output_type": "stream",
     "text": [
      "Product of the numbers: 20\n"
     ]
    }
   ],
   "source": [
    "def product(a, b):\n",
    "    return a * b\n",
    "\n",
    "print(\"Product of the numbers:\", product(4, 5))\n"
   ]
  },
  {
   "cell_type": "markdown",
   "id": "0cfa5d27-6ad6-458d-879d-7708381478a0",
   "metadata": {},
   "source": [
    "<h4><b>Ques7:</b>Explain the concepts of formal parameters and actual arguments in Python functions. </h4>\n"
   ]
  },
  {
   "cell_type": "markdown",
   "id": "71c8f52e-ca14-4eee-b70b-c885b604d54b",
   "metadata": {},
   "source": [
    "Formal parameter are those in which Variables  are inside the function definition.\n",
    "\n",
    "Actual arguments are those in which  Real values you pass when calling the function."
   ]
  },
  {
   "cell_type": "code",
   "execution_count": 12,
   "id": "00770ce0-6381-4c4e-b689-b5c0eeb43ac2",
   "metadata": {},
   "outputs": [
    {
     "name": "stdout",
     "output_type": "stream",
     "text": [
      "Hello Saniya\n"
     ]
    }
   ],
   "source": [
    "def greet(name):  # name → formal parameter\n",
    "    print(\"Hello\", name)\n",
    "\n",
    "greet(\"Saniya\")  # \"Saniya\" → actual argument\n"
   ]
  },
  {
   "cell_type": "markdown",
   "id": "2f54cffb-a5e4-42dd-ace2-b72d83045551",
   "metadata": {},
   "source": [
    "<h4><b>Ques8:</b>Write a Python program that defines a function with default argument values.</h4>\n"
   ]
  },
  {
   "cell_type": "code",
   "execution_count": 13,
   "id": "c3b7ff0d-3831-4226-8304-1111cb15f910",
   "metadata": {},
   "outputs": [
    {
     "name": "stdout",
     "output_type": "stream",
     "text": [
      "Hello Guest\n",
      "Hello Alexa\n"
     ]
    }
   ],
   "source": [
    "def greet(name=\"Guest\"):\n",
    "    print(\"Hello\", name)\n",
    "\n",
    "greet()         # uses default\n",
    "greet(\"Alexa\") # uses given name\n"
   ]
  },
  {
   "cell_type": "markdown",
   "id": "d9bfd3d1-e283-4d9a-8e84-31b5e063aec5",
   "metadata": {},
   "source": [
    "<h4><b>Ques9:</b>How do you use keyword arguments in Python function calls? Provide an example.</h4>\n"
   ]
  },
  {
   "cell_type": "code",
   "execution_count": 14,
   "id": "51413b6a-8d24-4d74-a4af-ff676ccbe51e",
   "metadata": {},
   "outputs": [
    {
     "name": "stdout",
     "output_type": "stream",
     "text": [
      "Muskan is 20 years old\n"
     ]
    }
   ],
   "source": [
    "def info(name, age):\n",
    "    print(name, \"is\", age, \"years old\")\n",
    "\n",
    "info(age=19, name=\"Muskan\")\n"
   ]
  },
  {
   "cell_type": "markdown",
   "id": "cdffd2e4-f414-4354-ac52-0fd2e8d9c702",
   "metadata": {},
   "source": [
    "<h4><b>Ques10:</b>Create a Python function that accepts a variable number of arguments and calculates their sum.</h4>\n"
   ]
  },
  {
   "cell_type": "code",
   "execution_count": 15,
   "id": "162af8c4-7a25-40d5-a841-94e22353e7fa",
   "metadata": {},
   "outputs": [
    {
     "name": "stdout",
     "output_type": "stream",
     "text": [
      "Sum: 12\n"
     ]
    }
   ],
   "source": [
    "def total_sum(*numbers):\n",
    "    s = 0\n",
    "    for n in numbers:\n",
    "        s += n\n",
    "    return s\n",
    "\n",
    "print(\"Sum:\", total_sum(2, 4, 6))\n"
   ]
  },
  {
   "cell_type": "markdown",
   "id": "a477dc15-b119-4601-8807-23376d4fbb44",
   "metadata": {},
   "source": [
    "<h4><b>Ques11:</b> Explain the concept of variable scope in Python, including local and global variables.</h4>\n"
   ]
  },
  {
   "cell_type": "code",
   "execution_count": 17,
   "id": "191683e2-cdbc-45a8-8b95-c5b19b43cfba",
   "metadata": {},
   "outputs": [
    {
     "name": "stdout",
     "output_type": "stream",
     "text": [
      "args: (100, 200, 300)\n",
      "kwargs: {'name': 'Muskan', 'age': 20}\n"
     ]
    }
   ],
   "source": [
    "def example(*args, **kwargs):\n",
    "    print(\"args:\", args)\n",
    "    print(\"kwargs:\", kwargs)\n",
    "\n",
    "example(100,200,300, name=\"Muskan\", age=20)\n"
   ]
  },
  {
   "cell_type": "markdown",
   "id": "2b900b28-812f-48e1-beb4-e1122b7d24dc",
   "metadata": {},
   "source": [
    "<h4><b>Ques12:</b> Describe the role of the `return` statement in Python functions and provide examples</h4>\n"
   ]
  },
  {
   "cell_type": "markdown",
   "id": "5a2717ac-ef26-4f32-9361-f45440e6535e",
   "metadata": {},
   "source": [
    "The role of the return function is to send the value back to the user"
   ]
  },
  {
   "cell_type": "code",
   "execution_count": 18,
   "id": "e291c8ed-3cfb-49c6-8b7e-20b274eebe98",
   "metadata": {},
   "outputs": [
    {
     "name": "stdout",
     "output_type": "stream",
     "text": [
      "Square: 25\n"
     ]
    }
   ],
   "source": [
    "def square(n):\n",
    "    return n * n\n",
    "\n",
    "result = square(5)\n",
    "print(\"Square:\", result)\n"
   ]
  },
  {
   "cell_type": "markdown",
   "id": "783ea0b9-3986-492f-9ceb-ee6ac0caaa9e",
   "metadata": {},
   "source": [
    "<h4><b>Ques13:</b> Explain the concept of variable scope in Python, including local and global variables.</h4>\n"
   ]
  },
  {
   "cell_type": "code",
   "execution_count": null,
   "id": "2b3e09ca-3d36-4daa-85bc-fbecfc2edb16",
   "metadata": {},
   "outputs": [],
   "source": [
    "x = 10  # global variable\n",
    "\n",
    "def show():\n",
    "    y = 5  # local variable\n",
    "    print(\"Inside function:\", y)\n",
    "\n",
    "show()\n",
    "print(\"Outside function:\", x)\n"
   ]
  },
  {
   "cell_type": "markdown",
   "id": "4825f624-df61-4600-8e14-3834ce1d34e3",
   "metadata": {},
   "source": [
    "<h4><b>Ques14:</b> Write a Python program that demonstrates the use of global variables within functions.</h4>\n"
   ]
  },
  {
   "cell_type": "code",
   "execution_count": 19,
   "id": "b0b1874f-e5ae-4e09-8597-f3ef34dc2928",
   "metadata": {},
   "outputs": [
    {
     "name": "stdout",
     "output_type": "stream",
     "text": [
      "Count inside function: 1\n",
      "Count outside function: 1\n"
     ]
    }
   ],
   "source": [
    "count = 0\n",
    "\n",
    "def increase():\n",
    "    global count\n",
    "    count += 1\n",
    "    print(\"Count inside function:\", count)\n",
    "\n",
    "increase()\n",
    "print(\"Count outside function:\", count)\n"
   ]
  },
  {
   "cell_type": "markdown",
   "id": "f99c7e4a-ac52-43d8-865e-b3e1017908fe",
   "metadata": {},
   "source": [
    "<h4><b>Ques15:</b>Create a Python function that calculates the factorial of a number and returns it.</h4>\n"
   ]
  },
  {
   "cell_type": "code",
   "execution_count": 22,
   "id": "aa9dff20-3ea0-4124-8c71-13e6460b3947",
   "metadata": {},
   "outputs": [
    {
     "name": "stdout",
     "output_type": "stream",
     "text": [
      "Factorial: 362880\n"
     ]
    }
   ],
   "source": [
    "def factorial(n):\n",
    "    result = 1\n",
    "    for i in range(1, n + 1):\n",
    "        result *= i\n",
    "    return result\n",
    "\n",
    "print(\"Factorial:\", factorial(9))\n"
   ]
  },
  {
   "cell_type": "markdown",
   "id": "6c32725b-ef23-4b46-a2a1-689f4c0141cf",
   "metadata": {},
   "source": [
    "<h4><b>Ques16:</b> How can you access variables defined outside a function from within the function?</h4>\n"
   ]
  },
  {
   "cell_type": "code",
   "execution_count": 23,
   "id": "e3f95b9b-d32f-465e-89ae-fbfba49eaf97",
   "metadata": {},
   "outputs": [
    {
     "name": "stdout",
     "output_type": "stream",
     "text": [
      "Value of x is 55\n"
     ]
    }
   ],
   "source": [
    "x = 55\n",
    "\n",
    "\n",
    "def display():\n",
    "    print(\"Value of x is\", x)\n",
    "\n",
    "display()\n"
   ]
  }
 ],
 "metadata": {
  "kernelspec": {
   "display_name": "Python 3 (ipykernel)",
   "language": "python",
   "name": "python3"
  },
  "language_info": {
   "codemirror_mode": {
    "name": "ipython",
    "version": 3
   },
   "file_extension": ".py",
   "mimetype": "text/x-python",
   "name": "python",
   "nbconvert_exporter": "python",
   "pygments_lexer": "ipython3",
   "version": "3.13.5"
  }
 },
 "nbformat": 4,
 "nbformat_minor": 5
}
